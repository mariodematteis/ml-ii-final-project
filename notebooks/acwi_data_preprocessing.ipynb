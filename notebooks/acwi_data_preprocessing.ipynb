{
 "cells": [
  {
   "cell_type": "code",
   "execution_count": null,
   "metadata": {},
   "outputs": [],
   "source": [
    "import warnings\n",
    "\n",
    "warnings.filterwarnings(\"ignore\")"
   ]
  },
  {
   "cell_type": "code",
   "execution_count": null,
   "metadata": {},
   "outputs": [],
   "source": [
    "from pathlib import Path\n",
    "\n",
    "data_folder: Path = Path(\"../data/\")\n",
    "\n",
    "raw_data_folder: Path = data_folder.joinpath(\"00_raw/\")\n",
    "prod_data_folder: Path = data_folder.joinpath(\"30_prod/\")\n",
    "\n",
    "acwi_index_filename: str = \"ACWI.csv\""
   ]
  },
  {
   "cell_type": "code",
   "execution_count": null,
   "metadata": {},
   "outputs": [],
   "source": [
    "import pandas as pd\n",
    "\n",
    "acwi_df: pd.DataFrame = pd.read_csv(raw_data_folder / acwi_index_filename)\n",
    "acwi_df.rename(columns={\"Price\": \"Date\"}, inplace=True)\n",
    "acwi_df.drop([0, 1], axis=0, inplace=True)\n",
    "acwi_df[\"Date\"] = pd.to_datetime(acwi_df[\"Date\"], format=\"%Y-%m-%d\")\n",
    "acwi_df[\"Open\"] = acwi_df[\"Open\"].astype(float)\n",
    "acwi_df[\"High\"] = acwi_df[\"High\"].astype(float)\n",
    "acwi_df[\"Low\"] = acwi_df[\"Low\"].astype(float)\n",
    "acwi_df[\"Close\"] = acwi_df[\"Close\"].astype(float)\n",
    "acwi_df[\"Volume\"] = acwi_df[\"Volume\"].astype(int)"
   ]
  },
  {
   "cell_type": "code",
   "execution_count": null,
   "metadata": {},
   "outputs": [],
   "source": [
    "acwi_df.info()"
   ]
  },
  {
   "cell_type": "code",
   "execution_count": null,
   "metadata": {},
   "outputs": [],
   "source": [
    "acwi_df.to_csv(prod_data_folder / acwi_index_filename, sep=\",\", index=False)"
   ]
  }
 ],
 "metadata": {
  "kernelspec": {
   "display_name": "SyntheticTimeSeries",
   "language": "python",
   "name": "python3"
  },
  "language_info": {
   "codemirror_mode": {
    "name": "ipython",
    "version": 3
   },
   "file_extension": ".py",
   "mimetype": "text/x-python",
   "name": "python",
   "nbconvert_exporter": "python",
   "pygments_lexer": "ipython3",
   "version": "3.11.11"
  }
 },
 "nbformat": 4,
 "nbformat_minor": 2
}
