{
 "cells": [
  {
   "cell_type": "code",
   "execution_count": 12,
   "metadata": {},
   "outputs": [],
   "source": [
    "import warnings\n",
    "\n",
    "warnings.filterwarnings(\"ignore\")"
   ]
  },
  {
   "cell_type": "code",
   "execution_count": 13,
   "metadata": {},
   "outputs": [],
   "source": [
    "from pathlib import Path\n",
    "\n",
    "prod_data_folder: Path = Path(\"30_prod/\")\n",
    "features_data_folder: Path = Path(\"40_features/\")\n",
    "\n",
    "aapl_stock_filename: str = \"AAPL.csv\"\n",
    "jpm_stock_filename: str = \"JPM.csv\""
   ]
  },
  {
   "cell_type": "code",
   "execution_count": 23,
   "metadata": {},
   "outputs": [],
   "source": [
    "from datetime import date\n",
    "\n",
    "ticker_list: list[str] = [\"AAPL\", \"JPM\"]\n",
    "start_date: str = date(2024, 1, 1).strftime(\"%Y-%m-%d\")\n",
    "end_date: str = date(2025, 1, 1).strftime(\"%Y-%m-%d\")\n",
    "period: str = \"1d\""
   ]
  },
  {
   "cell_type": "code",
   "execution_count": 28,
   "metadata": {},
   "outputs": [
    {
     "name": "stderr",
     "output_type": "stream",
     "text": [
      "[*********************100%***********************]  1 of 2 completed\n",
      "\n",
      "2 Failed downloads:\n",
      "['AAPL', 'JPM']: YFRateLimitError('Too Many Requests. Rate limited. Try after a while.')\n"
     ]
    }
   ],
   "source": [
    "df: pd.DataFrame = yf.download(\n",
    "    ticker_list, period=period, start=start_date, end=end_date\n",
    ")"
   ]
  },
  {
   "cell_type": "code",
   "execution_count": 19,
   "metadata": {},
   "outputs": [
    {
     "name": "stderr",
     "output_type": "stream",
     "text": [
      "[*********************100%***********************]  1 of 1 completed\n",
      "\n",
      "1 Failed download:\n",
      "['AAPL']: YFRateLimitError('Too Many Requests. Rate limited. Try after a while.')\n",
      "[*********************100%***********************]  1 of 1 completed\n",
      "\n",
      "1 Failed download:\n",
      "['JPM']: YFRateLimitError('Too Many Requests. Rate limited. Try after a while.')\n"
     ]
    }
   ],
   "source": [
    "import yfinance as yf\n",
    "import pandas as pd\n",
    "\n",
    "aapl_df: pd.DataFrame = yf.download(\n",
    "    ticker_list[0], period=period, start=start_date, end=end_date\n",
    ")\n",
    "\n",
    "jpm_df: pd.DataFrame = yf.download(\n",
    "    ticker_list[1], period=period, start=start_date, end=end_date\n",
    ")"
   ]
  },
  {
   "cell_type": "code",
   "execution_count": null,
   "metadata": {},
   "outputs": [
    {
     "data": {
      "application/vnd.microsoft.datawrangler.viewer.v0+json": {
       "columns": [
        {
         "name": "Date",
         "rawType": "datetime64[ns]",
         "type": "datetime"
        },
        {
         "name": "('Adj Close', 'AAPL')",
         "rawType": "float64",
         "type": "float"
        },
        {
         "name": "('Close', 'AAPL')",
         "rawType": "float64",
         "type": "float"
        },
        {
         "name": "('High', 'AAPL')",
         "rawType": "float64",
         "type": "float"
        },
        {
         "name": "('Low', 'AAPL')",
         "rawType": "float64",
         "type": "float"
        },
        {
         "name": "('Open', 'AAPL')",
         "rawType": "float64",
         "type": "float"
        },
        {
         "name": "('Volume', 'AAPL')",
         "rawType": "float64",
         "type": "float"
        }
       ],
       "conversionMethod": "pd.DataFrame",
       "ref": "e4a521a6-8ee8-4602-9731-a6a331e0b51e",
       "rows": [],
       "shape": {
        "columns": 6,
        "rows": 0
       }
      },
      "text/html": [
       "<div>\n",
       "<style scoped>\n",
       "    .dataframe tbody tr th:only-of-type {\n",
       "        vertical-align: middle;\n",
       "    }\n",
       "\n",
       "    .dataframe tbody tr th {\n",
       "        vertical-align: top;\n",
       "    }\n",
       "\n",
       "    .dataframe thead tr th {\n",
       "        text-align: left;\n",
       "    }\n",
       "\n",
       "    .dataframe thead tr:last-of-type th {\n",
       "        text-align: right;\n",
       "    }\n",
       "</style>\n",
       "<table border=\"1\" class=\"dataframe\">\n",
       "  <thead>\n",
       "    <tr>\n",
       "      <th>Price</th>\n",
       "      <th>Adj Close</th>\n",
       "      <th>Close</th>\n",
       "      <th>High</th>\n",
       "      <th>Low</th>\n",
       "      <th>Open</th>\n",
       "      <th>Volume</th>\n",
       "    </tr>\n",
       "    <tr>\n",
       "      <th>Ticker</th>\n",
       "      <th>AAPL</th>\n",
       "      <th>AAPL</th>\n",
       "      <th>AAPL</th>\n",
       "      <th>AAPL</th>\n",
       "      <th>AAPL</th>\n",
       "      <th>AAPL</th>\n",
       "    </tr>\n",
       "    <tr>\n",
       "      <th>Date</th>\n",
       "      <th></th>\n",
       "      <th></th>\n",
       "      <th></th>\n",
       "      <th></th>\n",
       "      <th></th>\n",
       "      <th></th>\n",
       "    </tr>\n",
       "  </thead>\n",
       "  <tbody>\n",
       "  </tbody>\n",
       "</table>\n",
       "</div>"
      ],
      "text/plain": [
       "Empty DataFrame\n",
       "Columns: [(Adj Close, AAPL), (Close, AAPL), (High, AAPL), (Low, AAPL), (Open, AAPL), (Volume, AAPL)]\n",
       "Index: []"
      ]
     },
     "execution_count": 5,
     "metadata": {},
     "output_type": "execute_result"
    }
   ],
   "source": [
    "aapl_df.head()"
   ]
  },
  {
   "cell_type": "code",
   "execution_count": null,
   "metadata": {},
   "outputs": [
    {
     "data": {
      "application/vnd.microsoft.datawrangler.viewer.v0+json": {
       "columns": [
        {
         "name": "Date",
         "rawType": "datetime64[ns]",
         "type": "datetime"
        },
        {
         "name": "('Adj Close', 'JPM')",
         "rawType": "float64",
         "type": "float"
        },
        {
         "name": "('Close', 'JPM')",
         "rawType": "float64",
         "type": "float"
        },
        {
         "name": "('High', 'JPM')",
         "rawType": "float64",
         "type": "float"
        },
        {
         "name": "('Low', 'JPM')",
         "rawType": "float64",
         "type": "float"
        },
        {
         "name": "('Open', 'JPM')",
         "rawType": "float64",
         "type": "float"
        },
        {
         "name": "('Volume', 'JPM')",
         "rawType": "float64",
         "type": "float"
        }
       ],
       "conversionMethod": "pd.DataFrame",
       "ref": "09424112-128b-4141-a418-2981877e8660",
       "rows": [],
       "shape": {
        "columns": 6,
        "rows": 0
       }
      },
      "text/html": [
       "<div>\n",
       "<style scoped>\n",
       "    .dataframe tbody tr th:only-of-type {\n",
       "        vertical-align: middle;\n",
       "    }\n",
       "\n",
       "    .dataframe tbody tr th {\n",
       "        vertical-align: top;\n",
       "    }\n",
       "\n",
       "    .dataframe thead tr th {\n",
       "        text-align: left;\n",
       "    }\n",
       "\n",
       "    .dataframe thead tr:last-of-type th {\n",
       "        text-align: right;\n",
       "    }\n",
       "</style>\n",
       "<table border=\"1\" class=\"dataframe\">\n",
       "  <thead>\n",
       "    <tr>\n",
       "      <th>Price</th>\n",
       "      <th>Adj Close</th>\n",
       "      <th>Close</th>\n",
       "      <th>High</th>\n",
       "      <th>Low</th>\n",
       "      <th>Open</th>\n",
       "      <th>Volume</th>\n",
       "    </tr>\n",
       "    <tr>\n",
       "      <th>Ticker</th>\n",
       "      <th>JPM</th>\n",
       "      <th>JPM</th>\n",
       "      <th>JPM</th>\n",
       "      <th>JPM</th>\n",
       "      <th>JPM</th>\n",
       "      <th>JPM</th>\n",
       "    </tr>\n",
       "    <tr>\n",
       "      <th>Date</th>\n",
       "      <th></th>\n",
       "      <th></th>\n",
       "      <th></th>\n",
       "      <th></th>\n",
       "      <th></th>\n",
       "      <th></th>\n",
       "    </tr>\n",
       "  </thead>\n",
       "  <tbody>\n",
       "  </tbody>\n",
       "</table>\n",
       "</div>"
      ],
      "text/plain": [
       "Empty DataFrame\n",
       "Columns: [(Adj Close, JPM), (Close, JPM), (High, JPM), (Low, JPM), (Open, JPM), (Volume, JPM)]\n",
       "Index: []"
      ]
     },
     "execution_count": 6,
     "metadata": {},
     "output_type": "execute_result"
    }
   ],
   "source": [
    "jpm_df.head()"
   ]
  },
  {
   "cell_type": "code",
   "execution_count": 7,
   "metadata": {},
   "outputs": [
    {
     "ename": "AssertionError",
     "evalue": "",
     "output_type": "error",
     "traceback": [
      "\u001b[0;31m---------------------------------------------------------------------------\u001b[0m",
      "\u001b[0;31mAssertionError\u001b[0m                            Traceback (most recent call last)",
      "Cell \u001b[0;32mIn[7], line 10\u001b[0m\n\u001b[1;32m      8\u001b[0m \u001b[38;5;28;01massert\u001b[39;00m (aapl_df\u001b[38;5;241m.\u001b[39mLow\u001b[38;5;241m.\u001b[39mdtypes \u001b[38;5;241m==\u001b[39m np\u001b[38;5;241m.\u001b[39mfloat64)\u001b[38;5;241m.\u001b[39mitem()\n\u001b[1;32m      9\u001b[0m \u001b[38;5;28;01massert\u001b[39;00m (aapl_df\u001b[38;5;241m.\u001b[39mClose\u001b[38;5;241m.\u001b[39mdtypes \u001b[38;5;241m==\u001b[39m np\u001b[38;5;241m.\u001b[39mfloat64)\u001b[38;5;241m.\u001b[39mitem()\n\u001b[0;32m---> 10\u001b[0m \u001b[38;5;28;01massert\u001b[39;00m (aapl_df\u001b[38;5;241m.\u001b[39mVolume\u001b[38;5;241m.\u001b[39mdtypes \u001b[38;5;241m==\u001b[39m np\u001b[38;5;241m.\u001b[39mint64)\u001b[38;5;241m.\u001b[39mitem()\n\u001b[1;32m     12\u001b[0m \u001b[38;5;28;01massert\u001b[39;00m (jpm_df\u001b[38;5;241m.\u001b[39mOpen\u001b[38;5;241m.\u001b[39mdtypes \u001b[38;5;241m==\u001b[39m np\u001b[38;5;241m.\u001b[39mfloat64)\u001b[38;5;241m.\u001b[39mitem()\n\u001b[1;32m     13\u001b[0m \u001b[38;5;28;01massert\u001b[39;00m (jpm_df\u001b[38;5;241m.\u001b[39mHigh\u001b[38;5;241m.\u001b[39mdtypes \u001b[38;5;241m==\u001b[39m np\u001b[38;5;241m.\u001b[39mfloat64)\u001b[38;5;241m.\u001b[39mitem()\n",
      "\u001b[0;31mAssertionError\u001b[0m: "
     ]
    }
   ],
   "source": [
    "import numpy as np\n",
    "\n",
    "assert pd.api.types.is_datetime64_any_dtype(aapl_df.index)\n",
    "assert pd.api.types.is_datetime64_any_dtype(jpm_df.index)\n",
    "\n",
    "assert (aapl_df.Open.dtypes == np.float64).item()\n",
    "assert (aapl_df.High.dtypes == np.float64).item()\n",
    "assert (aapl_df.Low.dtypes == np.float64).item()\n",
    "assert (aapl_df.Close.dtypes == np.float64).item()\n",
    "assert (aapl_df.Volume.dtypes == np.int64).item()\n",
    "\n",
    "assert (jpm_df.Open.dtypes == np.float64).item()\n",
    "assert (jpm_df.High.dtypes == np.float64).item()\n",
    "assert (jpm_df.Low.dtypes == np.float64).item()\n",
    "assert (jpm_df.Close.dtypes == np.float64).item()\n",
    "assert (jpm_df.Volume.dtypes == np.int64).item()"
   ]
  },
  {
   "cell_type": "code",
   "execution_count": null,
   "metadata": {},
   "outputs": [
    {
     "name": "stdout",
     "output_type": "stream",
     "text": [
      "<class 'pandas.core.frame.DataFrame'>\n",
      "DatetimeIndex: 6289 entries, 2000-01-03 to 2024-12-31\n",
      "Data columns (total 10 columns):\n",
      " #   Column          Non-Null Count  Dtype  \n",
      "---  ------          --------------  -----  \n",
      " 0   (Close, AAPL)   6289 non-null   float64\n",
      " 1   (Close, JPM)    6289 non-null   float64\n",
      " 2   (High, AAPL)    6289 non-null   float64\n",
      " 3   (High, JPM)     6289 non-null   float64\n",
      " 4   (Low, AAPL)     6289 non-null   float64\n",
      " 5   (Low, JPM)      6289 non-null   float64\n",
      " 6   (Open, AAPL)    6289 non-null   float64\n",
      " 7   (Open, JPM)     6289 non-null   float64\n",
      " 8   (Volume, AAPL)  6289 non-null   int64  \n",
      " 9   (Volume, JPM)   6289 non-null   int64  \n",
      "dtypes: float64(8), int64(2)\n",
      "memory usage: 540.5 KB\n"
     ]
    }
   ],
   "source": [
    "aapl_df.info()"
   ]
  },
  {
   "cell_type": "code",
   "execution_count": null,
   "metadata": {},
   "outputs": [
    {
     "data": {
      "application/vnd.microsoft.datawrangler.viewer.v0+json": {
       "columns": [
        {
         "name": "Date",
         "rawType": "datetime64[ns]",
         "type": "datetime"
        },
        {
         "name": "AAPL",
         "rawType": "int64",
         "type": "integer"
        },
        {
         "name": "JPM",
         "rawType": "int64",
         "type": "integer"
        }
       ],
       "conversionMethod": "pd.DataFrame",
       "ref": "6f21cdfe-c9f5-4f61-8e40-d4f835db3c7c",
       "rows": [
        [
         "2000-01-03 00:00:00",
         "535796800",
         "12019200"
        ],
        [
         "2000-01-04 00:00:00",
         "512377600",
         "11723400"
        ],
        [
         "2000-01-05 00:00:00",
         "778321600",
         "8714550"
        ],
        [
         "2000-01-06 00:00:00",
         "767972800",
         "8369250"
        ],
        [
         "2000-01-07 00:00:00",
         "460734400",
         "6571950"
        ],
        [
         "2000-01-10 00:00:00",
         "505064000",
         "4723500"
        ],
        [
         "2000-01-11 00:00:00",
         "441548800",
         "8405550"
        ],
        [
         "2000-01-12 00:00:00",
         "976068800",
         "7271850"
        ],
        [
         "2000-01-13 00:00:00",
         "1032684800",
         "6918900"
        ],
        [
         "2000-01-14 00:00:00",
         "390376000",
         "9731850"
        ],
        [
         "2000-01-18 00:00:00",
         "459177600",
         "5296650"
        ],
        [
         "2000-01-19 00:00:00",
         "597643200",
         "15734700"
        ],
        [
         "2000-01-20 00:00:00",
         "1831132800",
         "7770300"
        ],
        [
         "2000-01-21 00:00:00",
         "495924800",
         "5160600"
        ],
        [
         "2000-01-24 00:00:00",
         "440876800",
         "6459150"
        ],
        [
         "2000-01-25 00:00:00",
         "497145600",
         "7579950"
        ],
        [
         "2000-01-26 00:00:00",
         "367158400",
         "8386650"
        ],
        [
         "2000-01-27 00:00:00",
         "340144000",
         "8165850"
        ],
        [
         "2000-01-28 00:00:00",
         "423348800",
         "7500000"
        ],
        [
         "2000-01-31 00:00:00",
         "701680000",
         "7160250"
        ],
        [
         "2000-02-01 00:00:00",
         "318035200",
         "9651000"
        ],
        [
         "2000-02-02 00:00:00",
         "464195200",
         "7126200"
        ],
        [
         "2000-02-03 00:00:00",
         "475193600",
         "9200250"
        ],
        [
         "2000-02-04 00:00:00",
         "425320000",
         "5115150"
        ],
        [
         "2000-02-07 00:00:00",
         "441067200",
         "4684200"
        ],
        [
         "2000-02-08 00:00:00",
         "408643200",
         "6318600"
        ],
        [
         "2000-02-09 00:00:00",
         "299364800",
         "9818550"
        ],
        [
         "2000-02-10 00:00:00",
         "302982400",
         "6880500"
        ],
        [
         "2000-02-11 00:00:00",
         "212251200",
         "7052550"
        ],
        [
         "2000-02-14 00:00:00",
         "367539200",
         "5904750"
        ],
        [
         "2000-02-15 00:00:00",
         "485744000",
         "8965500"
        ],
        [
         "2000-02-16 00:00:00",
         "378246400",
         "4829700"
        ],
        [
         "2000-02-17 00:00:00",
         "289497600",
         "5716200"
        ],
        [
         "2000-02-18 00:00:00",
         "233441600",
         "8121300"
        ],
        [
         "2000-02-22 00:00:00",
         "422296000",
         "7068600"
        ],
        [
         "2000-02-23 00:00:00",
         "473099200",
         "4452900"
        ],
        [
         "2000-02-24 00:00:00",
         "376432000",
         "5199900"
        ],
        [
         "2000-02-25 00:00:00",
         "249144000",
         "4644300"
        ],
        [
         "2000-02-28 00:00:00",
         "328328000",
         "6051000"
        ],
        [
         "2000-02-29 00:00:00",
         "368961600",
         "6166950"
        ],
        [
         "2000-03-01 00:00:00",
         "1077003200",
         "4866300"
        ],
        [
         "2000-03-02 00:00:00",
         "311259200",
         "3583800"
        ],
        [
         "2000-03-03 00:00:00",
         "323366400",
         "5981400"
        ],
        [
         "2000-03-06 00:00:00",
         "210560000",
         "5691450"
        ],
        [
         "2000-03-07 00:00:00",
         "273011200",
         "4566900"
        ],
        [
         "2000-03-08 00:00:00",
         "271230400",
         "5247750"
        ],
        [
         "2000-03-09 00:00:00",
         "276718400",
         "3979500"
        ],
        [
         "2000-03-10 00:00:00",
         "248606400",
         "5311350"
        ],
        [
         "2000-03-13 00:00:00",
         "303956800",
         "4723350"
        ],
        [
         "2000-03-14 00:00:00",
         "428579200",
         "4129650"
        ]
       ],
       "shape": {
        "columns": 2,
        "rows": 6289
       }
      },
      "text/html": [
       "<div>\n",
       "<style scoped>\n",
       "    .dataframe tbody tr th:only-of-type {\n",
       "        vertical-align: middle;\n",
       "    }\n",
       "\n",
       "    .dataframe tbody tr th {\n",
       "        vertical-align: top;\n",
       "    }\n",
       "\n",
       "    .dataframe thead th {\n",
       "        text-align: right;\n",
       "    }\n",
       "</style>\n",
       "<table border=\"1\" class=\"dataframe\">\n",
       "  <thead>\n",
       "    <tr style=\"text-align: right;\">\n",
       "      <th>Ticker</th>\n",
       "      <th>AAPL</th>\n",
       "      <th>JPM</th>\n",
       "    </tr>\n",
       "    <tr>\n",
       "      <th>Date</th>\n",
       "      <th></th>\n",
       "      <th></th>\n",
       "    </tr>\n",
       "  </thead>\n",
       "  <tbody>\n",
       "    <tr>\n",
       "      <th>2000-01-03</th>\n",
       "      <td>535796800</td>\n",
       "      <td>12019200</td>\n",
       "    </tr>\n",
       "    <tr>\n",
       "      <th>2000-01-04</th>\n",
       "      <td>512377600</td>\n",
       "      <td>11723400</td>\n",
       "    </tr>\n",
       "    <tr>\n",
       "      <th>2000-01-05</th>\n",
       "      <td>778321600</td>\n",
       "      <td>8714550</td>\n",
       "    </tr>\n",
       "    <tr>\n",
       "      <th>2000-01-06</th>\n",
       "      <td>767972800</td>\n",
       "      <td>8369250</td>\n",
       "    </tr>\n",
       "    <tr>\n",
       "      <th>2000-01-07</th>\n",
       "      <td>460734400</td>\n",
       "      <td>6571950</td>\n",
       "    </tr>\n",
       "    <tr>\n",
       "      <th>...</th>\n",
       "      <td>...</td>\n",
       "      <td>...</td>\n",
       "    </tr>\n",
       "    <tr>\n",
       "      <th>2024-12-24</th>\n",
       "      <td>23234700</td>\n",
       "      <td>3729100</td>\n",
       "    </tr>\n",
       "    <tr>\n",
       "      <th>2024-12-26</th>\n",
       "      <td>27237100</td>\n",
       "      <td>4451800</td>\n",
       "    </tr>\n",
       "    <tr>\n",
       "      <th>2024-12-27</th>\n",
       "      <td>42355300</td>\n",
       "      <td>5730200</td>\n",
       "    </tr>\n",
       "    <tr>\n",
       "      <th>2024-12-30</th>\n",
       "      <td>35557500</td>\n",
       "      <td>5723800</td>\n",
       "    </tr>\n",
       "    <tr>\n",
       "      <th>2024-12-31</th>\n",
       "      <td>39480700</td>\n",
       "      <td>4871000</td>\n",
       "    </tr>\n",
       "  </tbody>\n",
       "</table>\n",
       "<p>6289 rows × 2 columns</p>\n",
       "</div>"
      ],
      "text/plain": [
       "Ticker           AAPL       JPM\n",
       "Date                           \n",
       "2000-01-03  535796800  12019200\n",
       "2000-01-04  512377600  11723400\n",
       "2000-01-05  778321600   8714550\n",
       "2000-01-06  767972800   8369250\n",
       "2000-01-07  460734400   6571950\n",
       "...               ...       ...\n",
       "2024-12-24   23234700   3729100\n",
       "2024-12-26   27237100   4451800\n",
       "2024-12-27   42355300   5730200\n",
       "2024-12-30   35557500   5723800\n",
       "2024-12-31   39480700   4871000\n",
       "\n",
       "[6289 rows x 2 columns]"
      ]
     },
     "execution_count": 19,
     "metadata": {},
     "output_type": "execute_result"
    }
   ],
   "source": [
    "jpm_df.info()"
   ]
  },
  {
   "cell_type": "code",
   "execution_count": null,
   "metadata": {},
   "outputs": [],
   "source": [
    "aapl_df.to_csv(prod_data_folder / aapl_df)\n",
    "jpm_df.to_csv(prod_data_folder / jpm_df)"
   ]
  }
 ],
 "metadata": {
  "kernelspec": {
   "display_name": "SyntheticTimeSeries",
   "language": "python",
   "name": "python3"
  },
  "language_info": {
   "codemirror_mode": {
    "name": "ipython",
    "version": 3
   },
   "file_extension": ".py",
   "mimetype": "text/x-python",
   "name": "python",
   "nbconvert_exporter": "python",
   "pygments_lexer": "ipython3",
   "version": "3.11.11"
  }
 },
 "nbformat": 4,
 "nbformat_minor": 2
}
