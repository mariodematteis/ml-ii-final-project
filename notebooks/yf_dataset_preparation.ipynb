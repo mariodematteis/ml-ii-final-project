{
 "cells": [
  {
   "cell_type": "code",
   "execution_count": null,
   "metadata": {},
   "outputs": [],
   "source": [
    "import warnings\n",
    "\n",
    "warnings.filterwarnings(\"ignore\")"
   ]
  },
  {
   "cell_type": "code",
   "execution_count": null,
   "metadata": {},
   "outputs": [],
   "source": [
    "from pathlib import Path\n",
    "\n",
    "prod_data_folder: Path = Path(\"30_prod/\")\n",
    "features_data_folder: Path = Path(\"40_features/\")\n",
    "\n",
    "aapl_stock_filename: str = \"AAPL.csv\"\n",
    "jpm_stock_filename: str = \"JPM.csv\""
   ]
  },
  {
   "cell_type": "code",
   "execution_count": null,
   "metadata": {},
   "outputs": [],
   "source": [
    "from datetime import date\n",
    "\n",
    "ticker_list: list[str] = [\"AAPL\", \"JPM\"]\n",
    "start_date: str = date(2024, 1, 1).strftime(\"%Y-%m-%d\")\n",
    "end_date: str = date(2025, 1, 1).strftime(\"%Y-%m-%d\")\n",
    "period: str = \"1d\""
   ]
  },
  {
   "cell_type": "code",
   "execution_count": null,
   "metadata": {},
   "outputs": [],
   "source": [
    "df: pd.DataFrame = yf.download(\n",
    "    ticker_list, period=period, start=start_date, end=end_date\n",
    ")"
   ]
  },
  {
   "cell_type": "code",
   "execution_count": null,
   "metadata": {},
   "outputs": [],
   "source": [
    "import yfinance as yf\n",
    "import pandas as pd\n",
    "\n",
    "aapl_df: pd.DataFrame = yf.download(\n",
    "    ticker_list[0], period=period, start=start_date, end=end_date\n",
    ")\n",
    "\n",
    "jpm_df: pd.DataFrame = yf.download(\n",
    "    ticker_list[1], period=period, start=start_date, end=end_date\n",
    ")"
   ]
  },
  {
   "cell_type": "code",
   "execution_count": null,
   "metadata": {},
   "outputs": [],
   "source": [
    "aapl_df.head()"
   ]
  },
  {
   "cell_type": "code",
   "execution_count": null,
   "metadata": {},
   "outputs": [],
   "source": [
    "jpm_df.head()"
   ]
  },
  {
   "cell_type": "code",
   "execution_count": null,
   "metadata": {},
   "outputs": [],
   "source": [
    "import numpy as np\n",
    "\n",
    "assert pd.api.types.is_datetime64_any_dtype(aapl_df.index)\n",
    "assert pd.api.types.is_datetime64_any_dtype(jpm_df.index)\n",
    "\n",
    "assert (aapl_df.Open.dtypes == np.float64).item()\n",
    "assert (aapl_df.High.dtypes == np.float64).item()\n",
    "assert (aapl_df.Low.dtypes == np.float64).item()\n",
    "assert (aapl_df.Close.dtypes == np.float64).item()\n",
    "assert (aapl_df.Volume.dtypes == np.int64).item()\n",
    "\n",
    "assert (jpm_df.Open.dtypes == np.float64).item()\n",
    "assert (jpm_df.High.dtypes == np.float64).item()\n",
    "assert (jpm_df.Low.dtypes == np.float64).item()\n",
    "assert (jpm_df.Close.dtypes == np.float64).item()\n",
    "assert (jpm_df.Volume.dtypes == np.int64).item()"
   ]
  },
  {
   "cell_type": "code",
   "execution_count": null,
   "metadata": {},
   "outputs": [],
   "source": [
    "aapl_df.info()"
   ]
  },
  {
   "cell_type": "code",
   "execution_count": null,
   "metadata": {},
   "outputs": [],
   "source": [
    "jpm_df.info()"
   ]
  },
  {
   "cell_type": "code",
   "execution_count": null,
   "metadata": {},
   "outputs": [],
   "source": [
    "aapl_df.to_csv(prod_data_folder / aapl_df)\n",
    "jpm_df.to_csv(prod_data_folder / jpm_df)"
   ]
  }
 ],
 "metadata": {
  "kernelspec": {
   "display_name": "SyntheticTimeSeries",
   "language": "python",
   "name": "python3"
  },
  "language_info": {
   "codemirror_mode": {
    "name": "ipython",
    "version": 3
   },
   "file_extension": ".py",
   "mimetype": "text/x-python",
   "name": "python",
   "nbconvert_exporter": "python",
   "pygments_lexer": "ipython3",
   "version": "3.11.11"
  }
 },
 "nbformat": 4,
 "nbformat_minor": 2
}
