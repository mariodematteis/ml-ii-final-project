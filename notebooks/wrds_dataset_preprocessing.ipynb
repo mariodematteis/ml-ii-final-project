{
 "cells": [
  {
   "cell_type": "code",
   "execution_count": null,
   "metadata": {},
   "outputs": [],
   "source": [
    "import warnings\n",
    "\n",
    "warnings.filterwarnings(\"ignore\")"
   ]
  },
  {
   "cell_type": "code",
   "execution_count": null,
   "metadata": {},
   "outputs": [],
   "source": [
    "from pathlib import Path\n",
    "\n",
    "data_folder: Path = Path(\"../data/\")\n",
    "\n",
    "raw_data_folder: Path = data_folder.joinpath(\"00_raw/\")\n",
    "prod_data_folder: Path = data_folder.joinpath(\"30_prod/\")\n",
    "\n",
    "aapl_stock_filename: str = \"AAPL.csv\"\n",
    "jpm_stock_filename: str = \"JPM.csv\""
   ]
  },
  {
   "cell_type": "code",
   "execution_count": null,
   "metadata": {},
   "outputs": [],
   "source": [
    "import pandas as pd\n",
    "\n",
    "aapl_df: pd.DataFrame = pd.read_csv(\n",
    "    filepath_or_buffer=raw_data_folder.joinpath(aapl_stock_filename),\n",
    "    sep=\",\",\n",
    ")\n",
    "\n",
    "jpm_df: pd.DataFrame = pd.read_csv(\n",
    "    filepath_or_buffer=raw_data_folder.joinpath(jpm_stock_filename),\n",
    "    sep=\",\",\n",
    ")\n",
    "\n",
    "aapl_df.drop(columns=[\"gvkey\"], inplace=True)\n",
    "aapl_df[\"datadate\"] = pd.to_datetime(aapl_df[\"datadate\"], format=\"%Y-%m-%d\")\n",
    "aapl_df.rename(\n",
    "    columns={\n",
    "        \"datadate\": \"Date\",\n",
    "        \"cshtrd\": \"Volume\",\n",
    "        \"prccd\": \"Close\",\n",
    "        \"prchd\": \"High\",\n",
    "        \"prcld\": \"Low\",\n",
    "        \"prcod\": \"Open\",\n",
    "    },\n",
    "    inplace=True,\n",
    ")\n",
    "aapl_df.Volume = aapl_df.Volume.astype(int)\n",
    "aapl_df.reset_index(drop=True, inplace=True)\n",
    "\n",
    "jpm_df.dropna(subset=[\"datadate\"], inplace=True)\n",
    "jpm_df.drop(columns=[\"gvkey\"], inplace=True)\n",
    "jpm_df[\"datadate\"] = pd.to_datetime(jpm_df[\"datadate\"], format=\"%m/%d/%y\")\n",
    "jpm_df.rename(\n",
    "    columns={\n",
    "        \"datadate\": \"Date\",\n",
    "        \"cshtrd\": \"Volume\",\n",
    "        \"prccd\": \"Close\",\n",
    "        \"prchd\": \"High\",\n",
    "        \"prcld\": \"Low\",\n",
    "        \"prcod\": \"Open\",\n",
    "    },\n",
    "    inplace=True,\n",
    ")\n",
    "jpm_df.Volume = jpm_df.Volume.astype(int)\n",
    "jpm_df.drop_duplicates(subset=[\"Date\"], keep=\"last\", inplace=True)\n",
    "jpm_df.reset_index(drop=True, inplace=True)"
   ]
  },
  {
   "cell_type": "code",
   "execution_count": null,
   "metadata": {},
   "outputs": [],
   "source": [
    "aapl_df.info()"
   ]
  },
  {
   "cell_type": "code",
   "execution_count": null,
   "metadata": {},
   "outputs": [],
   "source": [
    "jpm_df.info()"
   ]
  },
  {
   "cell_type": "code",
   "execution_count": null,
   "metadata": {},
   "outputs": [],
   "source": [
    "aapl_df.to_csv(\n",
    "    path_or_buf=prod_data_folder.joinpath(aapl_stock_filename),\n",
    "    sep=\",\",\n",
    "    index=False,\n",
    ")\n",
    "\n",
    "jpm_df.to_csv(\n",
    "    path_or_buf=prod_data_folder.joinpath(jpm_stock_filename), sep=\",\", index=False\n",
    ")"
   ]
  }
 ],
 "metadata": {
  "kernelspec": {
   "display_name": "SyntheticTimeSeries",
   "language": "python",
   "name": "python3"
  },
  "language_info": {
   "codemirror_mode": {
    "name": "ipython",
    "version": 3
   },
   "file_extension": ".py",
   "mimetype": "text/x-python",
   "name": "python",
   "nbconvert_exporter": "python",
   "pygments_lexer": "ipython3",
   "version": "3.11.11"
  }
 },
 "nbformat": 4,
 "nbformat_minor": 2
}
